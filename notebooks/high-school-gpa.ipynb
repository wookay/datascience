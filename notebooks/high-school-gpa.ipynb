{
 "cells": [
  {
   "cell_type": "markdown",
   "metadata": {},
   "source": [
    "* http://gpacalculator.net/high-school-gpa-calculator/"
   ]
  },
  {
   "cell_type": "code",
   "execution_count": 37,
   "metadata": {
    "collapsed": true
   },
   "outputs": [],
   "source": [
    "using Base.Test"
   ]
  },
  {
   "cell_type": "code",
   "execution_count": 51,
   "metadata": {
    "collapsed": false
   },
   "outputs": [
    {
     "name": "stderr",
     "output_type": "stream",
     "text": [
      "WARNING: Method definition grade_score(Any) in module Main at In[47]:2 overwritten at In[51]:2.\n",
      "WARNING: Method definition course_type_score(Any) in module Main at In[47]:12 overwritten at In[51]:12.\n",
      "WARNING: Method definition gpa(Any, Any) in module Main at In[47]:22 overwritten at In[51]:22.\n"
     ]
    },
    {
     "data": {
      "text/plain": [
       "gpa (generic function with 2 methods)"
      ]
     },
     "execution_count": 51,
     "metadata": {},
     "output_type": "execute_result"
    }
   ],
   "source": [
    "function grade_score(grade)::Float64\n",
    "    dict = Dict(\n",
    "        \"A\" => 4.0,\n",
    "        \"B\" => 3.0,\n",
    "        \"C\" => 2.0,\n",
    "        \"D\" => 1.0\n",
    "    )\n",
    "    dict[grade]\n",
    "end\n",
    "\n",
    "function course_type_score(course_type)::Float64\n",
    "    if course_type == \"AP\"\n",
    "        return 1.0\n",
    "    elseif course_type == \"Honors\"\n",
    "        return 0.5\n",
    "    else\n",
    "        return 0.0\n",
    "    end\n",
    "end\n",
    "\n",
    "function gpa(grade, course_type)::Float64\n",
    "    grade_score(grade) + course_type_score(course_type)\n",
    "end"
   ]
  },
  {
   "cell_type": "code",
   "execution_count": 20,
   "metadata": {
    "collapsed": false
   },
   "outputs": [
    {
     "data": {
      "text/plain": [
       "Test Passed\n",
       "  Expression: gpa(\"B\",\"AP\") == 4.0\n",
       "   Evaluated: 4.0 == 4.0"
      ]
     },
     "execution_count": 20,
     "metadata": {},
     "output_type": "execute_result"
    }
   ],
   "source": [
    "@test gpa(\"A\", \"Regular\") == 4.0\n",
    "@test gpa(\"A\", \"Honors\") == 4.5\n",
    "@test gpa(\"A\", \"AP\") == 5.0\n",
    "@test gpa(\"B\", \"Regular\") == 3.0\n",
    "@test gpa(\"B\", \"Honors\") == 3.5\n",
    "@test gpa(\"B\", \"AP\") == 4.0"
   ]
  },
  {
   "cell_type": "code",
   "execution_count": 31,
   "metadata": {
    "collapsed": false
   },
   "outputs": [
    {
     "name": "stderr",
     "output_type": "stream",
     "text": [
      "WARNING: Method definition (::Type{Main.Course})(String, String, String) in module Main at In[30]:3 overwritten at In[31]:2.\n",
      "WARNING: Method definition (::Type{Main.Course})(Any, Any, Any) in module Main at In[30]:3 overwritten at In[31]:2.\n"
     ]
    }
   ],
   "source": [
    "type Course\n",
    "    name::String\n",
    "    grade::String\n",
    "    course_type::String\n",
    "end"
   ]
  },
  {
   "cell_type": "code",
   "execution_count": 34,
   "metadata": {
    "collapsed": true
   },
   "outputs": [],
   "source": [
    "type Student\n",
    "    courses::Vector{Course}\n",
    "end"
   ]
  },
  {
   "cell_type": "code",
   "execution_count": 76,
   "metadata": {
    "collapsed": false
   },
   "outputs": [
    {
     "name": "stderr",
     "output_type": "stream",
     "text": [
      "WARNING: Method definition gpa(Main.Student) in module Main at In[73]:10 overwritten at In[76]:12.\n"
     ]
    },
    {
     "data": {
      "text/plain": [
       "gpa (generic function with 2 methods)"
      ]
     },
     "execution_count": 76,
     "metadata": {},
     "output_type": "execute_result"
    }
   ],
   "source": [
    "function gpa(s::Student)::Float64\n",
    "    \n",
    "#    scores = []\n",
    "#    for course in s.courses\n",
    "#        push!(scores, gpa(course.grade, course.course_type))\n",
    "#    end\n",
    "#    scores\n",
    "    \n",
    "\n",
    "#    f = course -> gpa(course.grade, course.course_type)\n",
    "    \n",
    "    f(course) = gpa(course.grade, course.course_type)\n",
    "    \n",
    "#    function f(course)\n",
    "#        gpa(course.grade, course.course_type)\n",
    "#    end\n",
    "    \n",
    "#    scores = map(f, s.courses)\n",
    "    \n",
    "    scores = f.(s.courses)\n",
    "    \n",
    "    round(mean(scores), 1)\n",
    "end"
   ]
  },
  {
   "cell_type": "code",
   "execution_count": 74,
   "metadata": {
    "collapsed": false
   },
   "outputs": [
    {
     "data": {
      "text/plain": [
       "Student(Course[Course(\"math\",\"A\",\"Regular\"),Course(\"stat\",\"B\",\"Honors\")])"
      ]
     },
     "execution_count": 74,
     "metadata": {},
     "output_type": "execute_result"
    }
   ],
   "source": [
    "courses = [Course(\"math\", \"A\", \"Regular\"),\n",
    "           Course(\"stat\", \"B\", \"Honors\")]\n",
    "a = Student(courses)"
   ]
  },
  {
   "cell_type": "code",
   "execution_count": 46,
   "metadata": {
    "collapsed": false
   },
   "outputs": [
    {
     "data": {
      "text/plain": [
       "Test Passed\n",
       "  Expression: gpa(a) == 3.8\n",
       "   Evaluated: 3.8 == 3.8"
      ]
     },
     "execution_count": 46,
     "metadata": {},
     "output_type": "execute_result"
    }
   ],
   "source": []
  },
  {
   "cell_type": "code",
   "execution_count": 49,
   "metadata": {
    "collapsed": false
   },
   "outputs": [
    {
     "data": {
      "text/plain": [
       "Student(Course[Course(\"math\",\"C\",\"Regular\"),Course(\"stat\",\"D\",\"Honors\")])"
      ]
     },
     "execution_count": 49,
     "metadata": {},
     "output_type": "execute_result"
    }
   ],
   "source": [
    "b = Student([Course(\"math\", \"C\", \"Regular\"),\n",
    "             Course(\"stat\", \"D\", \"Honors\")])"
   ]
  },
  {
   "cell_type": "code",
   "execution_count": 75,
   "metadata": {
    "collapsed": false
   },
   "outputs": [
    {
     "data": {
      "text/plain": [
       "Test Passed\n",
       "  Expression: gpa(b) == 1.8\n",
       "   Evaluated: 1.8 == 1.8"
      ]
     },
     "execution_count": 75,
     "metadata": {},
     "output_type": "execute_result"
    }
   ],
   "source": [
    "@test gpa(a) == 3.8\n",
    "@test gpa(b) == 1.8"
   ]
  },
  {
   "cell_type": "code",
   "execution_count": 69,
   "metadata": {
    "collapsed": false
   },
   "outputs": [
    {
     "name": "stderr",
     "output_type": "stream",
     "text": [
      "WARNING: Method definition isless(Main.Student, Main.Student) in module Main at In[68]:2 overwritten at In[69]:2.\n"
     ]
    }
   ],
   "source": [
    "function Base.isless(l::Student, r::Student)\n",
    "    gpa(l) < gpa(r)\n",
    "end"
   ]
  },
  {
   "cell_type": "code",
   "execution_count": 71,
   "metadata": {
    "collapsed": false
   },
   "outputs": [
    {
     "data": {
      "text/plain": [
       "2-element Array{Student,1}:\n",
       " Student(Course[Course(\"math\",\"A\",\"Regular\"),Course(\"stat\",\"B\",\"Honors\")])\n",
       " Student(Course[Course(\"math\",\"C\",\"Regular\"),Course(\"stat\",\"D\",\"Honors\")])"
      ]
     },
     "execution_count": 71,
     "metadata": {},
     "output_type": "execute_result"
    }
   ],
   "source": [
    "sort([a,b], rev=true)"
   ]
  }
 ],
 "metadata": {
  "kernelspec": {
   "display_name": "Julia 0.5.0",
   "language": "julia",
   "name": "julia-0.5"
  },
  "language_info": {
   "file_extension": ".jl",
   "mimetype": "application/julia",
   "name": "julia",
   "version": "0.5.0"
  }
 },
 "nbformat": 4,
 "nbformat_minor": 1
}
