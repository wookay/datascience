{
 "cells": [
  {
   "cell_type": "code",
   "execution_count": 3,
   "metadata": {
    "collapsed": true
   },
   "outputs": [],
   "source": [
    "using Base.Test"
   ]
  },
  {
   "cell_type": "code",
   "execution_count": 8,
   "metadata": {
    "collapsed": false
   },
   "outputs": [
    {
     "name": "stderr",
     "output_type": "stream",
     "text": [
      "WARNING: Method definition draw(Int64) in module Main at In[6]:2 overwritten at In[8]:2.\n"
     ]
    },
    {
     "data": {
      "text/plain": [
       "draw (generic function with 2 methods)"
      ]
     },
     "execution_count": 8,
     "metadata": {},
     "output_type": "execute_result"
    }
   ],
   "source": [
    "function draw(n::Int)::String\n",
    "    if  n == 1 \n",
    "        \"*\"\n",
    "    else\n",
    "        \"\"\n",
    "    end\n",
    "end"
   ]
  },
  {
   "cell_type": "code",
   "execution_count": 12,
   "metadata": {
    "collapsed": false
   },
   "outputs": [
    {
     "data": {
      "text/plain": [
       "Test Passed\n",
       "  Expression: draw(1) == \"*\"\n",
       "   Evaluated: \"*\" == \"*\""
      ]
     },
     "execution_count": 12,
     "metadata": {},
     "output_type": "execute_result"
    }
   ],
   "source": [
    "@test draw(1) == \"*\""
   ]
  },
  {
   "cell_type": "code",
   "execution_count": 14,
   "metadata": {
    "collapsed": false
   },
   "outputs": [
    {
     "name": "stdout",
     "output_type": "stream",
     "text": [
      "Test Failed\n",
      "  Expression: draw(5) == \"*\\n**\\n***\\n****\\n*****\\n\"\n",
      "   Evaluated: \"\" == \"*\\n**\\n***\\n****\\n*****\\n\"\n"
     ]
    },
    {
     "ename": "LoadError",
     "evalue": "There was an error during testing",
     "output_type": "error",
     "traceback": [
      "There was an error during testing",
      "",
      " in record(::Base.Test.FallbackTestSet, ::Base.Test.Fail) at ./test.jl:397",
      " in do_test(::Base.Test.Returned, ::Expr) at ./test.jl:281"
     ]
    }
   ],
   "source": [
    "@test draw(5) == \"\"\"\n",
    "*\n",
    "**\n",
    "***\n",
    "****\n",
    "*****\n",
    "\"\"\"\n",
    " "
   ]
  },
  {
   "cell_type": "code",
   "execution_count": null,
   "metadata": {
    "collapsed": true
   },
   "outputs": [],
   "source": []
  }
 ],
 "metadata": {
  "kernelspec": {
   "display_name": "Julia 0.5.0",
   "language": "julia",
   "name": "julia-0.5"
  },
  "language_info": {
   "file_extension": ".jl",
   "mimetype": "application/julia",
   "name": "julia",
   "version": "0.5.0"
  }
 },
 "nbformat": 4,
 "nbformat_minor": 1
}
