{
 "cells": [
  {
   "cell_type": "code",
   "execution_count": null,
   "metadata": {
    "collapsed": true
   },
   "outputs": [],
   "source": [
    "type Student\n",
    "    name::String\n",
    "    subject::Dict{String,Int}\n",
    "end"
   ]
  },
  {
   "cell_type": "code",
   "execution_count": 50,
   "metadata": {
    "collapsed": false
   },
   "outputs": [
    {
     "name": "stderr",
     "output_type": "stream",
     "text": [
      "WARNING: Method definition printstudent(Main.Student, Any) in module Main at In[45]:2 overwritten at In[50]:2.\n"
     ]
    },
    {
     "data": {
      "text/plain": [
       "printstudent (generic function with 1 method)"
      ]
     },
     "execution_count": 50,
     "metadata": {},
     "output_type": "execute_result"
    }
   ],
   "source": [
    "function printstudent(s::Student, k)\n",
    "    print(pad(s.name), \" | \")\n",
    "    for sub in k\n",
    "        print(pad(s.subject[sub]), \" | \")\n",
    "    end\n",
    "    print(pad(sum(values(s.subject))))\n",
    "    println()\n",
    "end"
   ]
  },
  {
   "cell_type": "code",
   "execution_count": 16,
   "metadata": {
    "collapsed": false
   },
   "outputs": [
    {
     "data": {
      "text/plain": [
       "Student(\"b\",Dict(\"math\"=>70,\"stat\"=>30))"
      ]
     },
     "execution_count": 16,
     "metadata": {},
     "output_type": "execute_result"
    }
   ],
   "source": [
    "a = Student(\"a\", Dict(\"math\" => 50, \"stat\" => 10))\n",
    "b = Student(\"b\", Dict(\"math\" => 70, \"stat\" => 30))"
   ]
  },
  {
   "cell_type": "code",
   "execution_count": 3,
   "metadata": {
    "collapsed": false
   },
   "outputs": [
    {
     "data": {
      "text/plain": [
       "2-element Array{Student,1}:\n",
       " Student(\"a\",Dict(\"math\"=>50,\"stat\"=>100))\n",
       " Student(\"b\",Dict(\"math\"=>70,\"stat\"=>30)) "
      ]
     },
     "execution_count": 3,
     "metadata": {},
     "output_type": "execute_result"
    }
   ],
   "source": [
    "[a,b]"
   ]
  },
  {
   "cell_type": "code",
   "execution_count": 4,
   "metadata": {
    "collapsed": false
   },
   "outputs": [
    {
     "data": {
      "text/plain": [
       "2-element Array{String,1}:\n",
       " \"math\"\n",
       " \"stat\""
      ]
     },
     "execution_count": 4,
     "metadata": {},
     "output_type": "execute_result"
    }
   ],
   "source": [
    "k = [\"math\", \"stat\"]"
   ]
  },
  {
   "cell_type": "code",
   "execution_count": 19,
   "metadata": {
    "collapsed": false
   },
   "outputs": [
    {
     "name": "stdout",
     "output_type": "stream",
     "text": [
      "b | 70 | 30 | 100\n",
      "a | 50 | 10 | 60\n"
     ]
    }
   ],
   "source": [
    "for s in sort([a,b], rev=true)\n",
    "    printstudent(s, k)\n",
    "end"
   ]
  },
  {
   "cell_type": "code",
   "execution_count": 12,
   "metadata": {
    "collapsed": false
   },
   "outputs": [
    {
     "name": "stdout",
     "output_type": "stream",
     "text": [
      "name | math | stat | sum\n"
     ]
    }
   ],
   "source": [
    "print(\"name | \")\n",
    "for sub in k\n",
    "    print(sub, \" | \")\n",
    "end\n",
    "print(\"sum\")\n",
    "println()"
   ]
  },
  {
   "cell_type": "code",
   "execution_count": 10,
   "metadata": {
    "collapsed": false
   },
   "outputs": [
    {
     "name": "stdout",
     "output_type": "stream",
     "text": [
      "search: println print_with_color print print_joined print_escaped\n",
      "\n"
     ]
    },
    {
     "data": {
      "text/markdown": [
       "```\n",
       "println(x)\n",
       "```\n",
       "\n",
       "Print (using [`print`](:func:`print`)) `x` followed by a newline.\n"
      ],
      "text/plain": [
       "```\n",
       "println(x)\n",
       "```\n",
       "\n",
       "Print (using [`print`](:func:`print`)) `x` followed by a newline.\n"
      ]
     },
     "execution_count": 10,
     "metadata": {},
     "output_type": "execute_result"
    }
   ],
   "source": [
    "?println"
   ]
  },
  {
   "cell_type": "code",
   "execution_count": 11,
   "metadata": {
    "collapsed": false
   },
   "outputs": [
    {
     "name": "stdout",
     "output_type": "stream",
     "text": [
      "search: + .+\n",
      "\n"
     ]
    },
    {
     "data": {
      "text/markdown": [
       "```\n",
       "+(x, y...)\n",
       "```\n",
       "\n",
       "Addition operator. `x+y+z+...` calls this function with all arguments, i.e. `+(x, y, z, ...)`.\n"
      ],
      "text/plain": [
       "```\n",
       "+(x, y...)\n",
       "```\n",
       "\n",
       "Addition operator. `x+y+z+...` calls this function with all arguments, i.e. `+(x, y, z, ...)`.\n"
      ]
     },
     "execution_count": 11,
     "metadata": {},
     "output_type": "execute_result"
    }
   ],
   "source": [
    "?+"
   ]
  },
  {
   "cell_type": "code",
   "execution_count": 18,
   "metadata": {
    "collapsed": true
   },
   "outputs": [],
   "source": [
    "function Base.isless(l::Student, r::Student)\n",
    "    sum(values(l.subject)) < sum(values(r.subject))\n",
    "end"
   ]
  },
  {
   "cell_type": "code",
   "execution_count": 51,
   "metadata": {
    "collapsed": false
   },
   "outputs": [
    {
     "name": "stderr",
     "output_type": "stream",
     "text": [
      "WARNING: Method definition print_report(Array{Main.Student, 1}) in module Main at In[46]:2 overwritten at In[51]:2.\n"
     ]
    },
    {
     "data": {
      "text/plain": [
       "print_report (generic function with 1 method)"
      ]
     },
     "execution_count": 51,
     "metadata": {},
     "output_type": "execute_result"
    }
   ],
   "source": [
    "function print_report(students::Vector{Student})\n",
    "    k = [\"math\", \"stat\"]\n",
    "    print(pad(\"name\"), \" | \")\n",
    "    for sub in k\n",
    "        print(pad(sub), \" | \")\n",
    "    end\n",
    "    print(pad(\"sum\"))\n",
    "    println()\n",
    "    for s in sort(students, rev=true)\n",
    "        printstudent(s, k)\n",
    "    end\n",
    "end"
   ]
  },
  {
   "cell_type": "code",
   "execution_count": 29,
   "metadata": {
    "collapsed": false
   },
   "outputs": [
    {
     "data": {
      "text/plain": [
       "Student(\"c\",Dict(\"math\"=>100,\"stat\"=>100))"
      ]
     },
     "execution_count": 29,
     "metadata": {},
     "output_type": "execute_result"
    }
   ],
   "source": [
    "c = Student(\"c\", Dict(\"math\"=>100, \"stat\"=>100))"
   ]
  },
  {
   "cell_type": "code",
   "execution_count": 31,
   "metadata": {
    "collapsed": false
   },
   "outputs": [
    {
     "data": {
      "text/plain": [
       "pad (generic function with 1 method)"
      ]
     },
     "execution_count": 31,
     "metadata": {},
     "output_type": "execute_result"
    }
   ],
   "source": [
    "function pad(s)\n",
    "    lpad(s, 5)\n",
    "end"
   ]
  },
  {
   "cell_type": "code",
   "execution_count": 52,
   "metadata": {
    "collapsed": false
   },
   "outputs": [
    {
     "name": "stdout",
     "output_type": "stream",
     "text": [
      " name |  math |  stat |   sum\n",
      "    c |   100 |   100 |   200\n",
      "    b |    70 |    30 |   100\n",
      "    a |    50 |    10 |    60\n"
     ]
    }
   ],
   "source": [
    "print_report([a,b,c])"
   ]
  }
 ],
 "metadata": {
  "kernelspec": {
   "display_name": "Julia 0.5.0",
   "language": "julia",
   "name": "julia-0.5"
  },
  "language_info": {
   "file_extension": ".jl",
   "mimetype": "application/julia",
   "name": "julia",
   "version": "0.5.0"
  }
 },
 "nbformat": 4,
 "nbformat_minor": 1
}
